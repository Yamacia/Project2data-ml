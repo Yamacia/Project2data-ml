{
 "cells": [
  {
   "cell_type": "markdown",
   "id": "6afd3fdb",
   "metadata": {
    "editable": true
   },
   "source": [
    "<!-- HTML file automatically generated from DocOnce source (https://github.com/doconce/doconce/)\n",
    "doconce format html Project2.do.txt  -->\n",
    "<!-- dom:TITLE: Project 2 on Machine Learning, deadline November 13 (Midnight) -->"
   ]
  },
  {
   "cell_type": "markdown",
   "id": "21a10baa",
   "metadata": {
    "editable": true
   },
   "source": [
    "# Project 2 on Machine Learning, deadline November 13 (Midnight)\n",
    "**[Data Analysis and Machine Learning FYS-STK3155/FYS4155](http://www.uio.no/studier/emner/matnat/fys/FYS3155/index-eng.html)**, Department of Physics, University of Oslo, Norway\n",
    "\n",
    "Date: **Oct 9, 2023**\n",
    "\n",
    "Copyright 1999-2023, [Data Analysis and Machine Learning FYS-STK3155/FYS4155](http://www.uio.no/studier/emner/matnat/fys/FYS3155/index-eng.html). Released under CC Attribution-NonCommercial 4.0 license"
   ]
  },
  {
   "cell_type": "markdown",
   "id": "4f67ce6e",
   "metadata": {
    "editable": true
   },
   "source": [
    "## Classification and Regression, from linear and logistic regression to neural networks\n",
    "\n",
    "The main aim of this project is to study both classification and\n",
    "regression problems by developing our own feed-forward neural network\n",
    "(FFNN) code. We can reuse the regression algorithms studied in project\n",
    "1. We will also include logistic regression for classification\n",
    "problems and write our own FFNN code for studying both regression and\n",
    "classification problems.  The codes developed in project 1, including\n",
    "bootstrap **and/or** cross-validation as well as the computation of the\n",
    "mean-squared error and/or the $R2$ or the accuracy score\n",
    "(classification problems) functions can also be utilized in the\n",
    "present analysis.\n",
    "\n",
    "The data sets that we propose here are (the default sets)\n",
    "\n",
    "* Regression (fitting a continuous function). In this part you will need to bring back your results from project 1 and compare these with what you get from your Neural Network code to be developed here. The data sets could be\n",
    "\n",
    "a. A simple one-dimensional function or the Franke function or the terrain data from project 1, or data sets your propose. It could be a simpler function than the Franke function. We recommend testing a simpler function (see below). But if you wish to try more complex function, feel free to do so.\n",
    "\n",
    "* Classification. Here you will also need to develop a Logistic regression code that you will use to compare with the Neural Network code. The data set we propose are the so-called [Wisconsin Breat Cancer Data](https://www.kaggle.com/uciml/breast-cancer-wisconsin-data) data set of images representing various features of tumors. These are discussed intensively in the lecture notes, see for example the slides from [week 41](https://compphysics.github.io/MachineLearning/doc/pub/week41/html/week41.html). A longer explanation with links to the scientific literature can be found at the [Machine Learning repository of the University of California at Irvine](https://archive.ics.uci.edu/ml/datasets/Breast+Cancer+Wisconsin+%28Diagnostic%29). Feel free to consult this site and the pertinent  literature.\n",
    "\n",
    "You can find more information about this at the [Scikit-Learn site](https://scikit-learn.org/stable/modules/generated/sklearn.datasets.load_breast_cancer.html) or at the [University of California at Irvine](https://archive.ics.uci.edu/ml/datasets/breast+cancer+wisconsin+(original)). \n",
    "\n",
    "However, if you would like to study other data sets, feel free to\n",
    "propose other sets. What we list here are mere suggestions from our\n",
    "side. If you opt for another data set, consider using a set which has\n",
    "been studied in the scientific literature. This makes it easier for\n",
    "you to compare and analyze your results. Comparing with existing\n",
    "results from the scientific literature is also an essential element of\n",
    "the scientific discussion.  The University of California at Irvine\n",
    "with its Machine Learning repository at\n",
    "<https://archive.ics.uci.edu/ml/index.php> is an excellent site to\n",
    "look up for examples and\n",
    "inspiration. [Kaggle.com](https://www.kaggle.com/) is an equally\n",
    "interesting site. Feel free to explore these sites.\n",
    "\n",
    "We will start with a regression problem and we will reuse our codes from project 1 starting with writing our own Stochastic Gradient Descent (SGD) code."
   ]
  },
  {
   "cell_type": "markdown",
   "id": "505a2387",
   "metadata": {},
   "source": [
    "<h1>imports<h1>"
   ]
  },
  {
   "cell_type": "code",
   "execution_count": 2,
   "id": "42ad8528",
   "metadata": {},
   "outputs": [],
   "source": [
    "import matplotlib.pyplot as plt\n",
    "import numpy as np\n",
    "from sklearn.model_selection import  train_test_split \n",
    "from sklearn.datasets import load_breast_cancer\n",
    "from sklearn.linear_model import LogisticRegression\n",
    "from random import random, seed\n",
    "import matplotlib.pyplot as plt\n",
    "import numpy as np\n",
    "import autograd.numpy as np\n",
    "from autograd import grad"
   ]
  },
  {
   "cell_type": "markdown",
   "id": "13de11dc",
   "metadata": {},
   "source": [
    "<h1>Make design matrices from breast cancer data<h1>"
   ]
  },
  {
   "cell_type": "code",
   "execution_count": 45,
   "id": "5def79f8",
   "metadata": {},
   "outputs": [
    {
     "name": "stdout",
     "output_type": "stream",
     "text": [
      "(455, 30)\n",
      "(114, 30)\n"
     ]
    }
   ],
   "source": [
    "cancer = load_breast_cancer()\n",
    "\n",
    "#Splitting data 4/5 train and 1/5 test, so more data to train than test\n",
    "X_train, X_test, y_train, y_test = train_test_split(cancer.data,cancer.target,test_size=0.2,random_state=0)\n",
    "print(X_train.shape)\n",
    "print(X_test.shape)"
   ]
  },
  {
   "cell_type": "markdown",
   "id": "67c6916e",
   "metadata": {
    "editable": true
   },
   "source": [
    "### Part a): Write your own Stochastic Gradient Descent  code, first step\n",
    "\n",
    "In order to get started, we will now replace in our standard ordinary\n",
    "least squares (OLS) and Ridge regression codes (from project 1) the\n",
    "matrix inversion algorithm with our own gradient descent (GD) and SGD\n",
    "codes.  You can use the Franke function or the terrain data from\n",
    "project 1. **However, we recommend using a simpler function like**\n",
    "$f(x)=a_0+a_1x+a_2x^2$ or higher-order one-dimensional polynomials.\n",
    "You can obviously test your final codes against for example the Franke\n",
    "function.\n",
    "\n",
    "You should include in your analysis of the GD and SGD codes the following elements\n",
    "1. A plain gradient descent with a fixed learning rate (you will need to tune it) using the analytical expression for the gradient.\n",
    "\n",
    "2. Add momentum to the plain GD code and compare convergence with a fixed learning rate (you may need to tune the learning rate). Keep using the analytical expression for the gradient.\n",
    "\n",
    "3. Repeat these steps for stochastic gradient descent with mini batches and a given number of epochs. Use a tunable learning rate as discussed in the lectures from weeks 39 and 40. Discuss the results as functions of the various parameters (size of batches, number of epochs etc). Use the analytical gradient.\n",
    "\n",
    "4. Implement the Adagrad method in order to tune the learning rate. Do this with and without momentum for plain gradient descent and SGD.\n",
    "\n",
    "5. Add RMSprop and Adam to your library of methods for tuning the learning rate.\n",
    "\n",
    "The lecture notes from [weeks 39 and 40contain more\n",
    "details](https://compphysics.github.io/MachineLearning/doc/pub/week39/html/week39.html) and code examples. Feel free to use these examples.\n",
    "1. Replace thereafter your analytical gradient with either **Autograd** or **JAX**\n",
    "\n",
    "In summary, you should \n",
    "perform an analysis of the results for OLS and Ridge regression as\n",
    "function of the chosen learning rates, the number of mini-batches and\n",
    "epochs as well as algorithm for scaling the learning rate. You can\n",
    "also compare your own results with those that can be obtained using\n",
    "for example **Scikit-Learn**'s various SGD options.  Discuss your\n",
    "results. For Ridge regression you need now to study the results as functions of  the hyper-parameter $\\lambda$ and \n",
    "the learning rate $\\eta$.  Discuss your results.\n",
    "\n",
    "You will need your SGD code for the setup of the Neural Network and\n",
    "Logistic Regression codes. You will find the Python [Seaborn\n",
    "package](https://seaborn.pydata.org/generated/seaborn.heatmap.html)\n",
    "useful when plotting the results as function of the learning rate\n",
    "$\\eta$ and the hyper-parameter $\\lambda$ when you use Ridge\n",
    "regression.\n",
    "\n",
    "We recommend reading chapter 8 on optimization from the textbook of [Goodfellow, Bengio and Courville](https://www.deeplearningbook.org/). This chapter contains many useful insights and discussions on the optimization part of machine learning."
   ]
  },
  {
   "cell_type": "code",
   "execution_count": 54,
   "id": "dd78ffd7",
   "metadata": {},
   "outputs": [
    {
     "name": "stdout",
     "output_type": "stream",
     "text": [
      "(455, 30)\n",
      "(455, 1)\n",
      "[[1.340e+01 2.052e+01 8.864e+01 ... 2.051e-01 3.585e-01 1.109e-01]\n",
      " [1.321e+01 2.525e+01 8.410e+01 ... 6.005e-02 2.444e-01 6.788e-02]\n",
      " [1.402e+01 1.566e+01 8.959e+01 ... 8.216e-02 2.136e-01 6.710e-02]\n",
      " ...\n",
      " [2.018e+01 1.954e+01 1.338e+02 ... 2.173e-01 3.032e-01 8.075e-02]\n",
      " [1.831e+01 2.058e+01 1.208e+02 ... 1.510e-01 3.074e-01 7.863e-02]\n",
      " [1.504e+01 1.674e+01 9.873e+01 ... 1.018e-01 2.177e-01 8.549e-02]]\n",
      "test (114, 1)\n",
      "(114, 31)\n"
     ]
    },
    {
     "data": {
      "image/png": "[encoded data removed]",
      "text/plain": [
       "<Figure size 640x480 with 1 Axes>"
      ]
     },
     "metadata": {},
     "output_type": "display_data"
    }
   ],
   "source": [
    "X = X_train\n",
    "print(X.shape) # (455,30)\n",
    "n = X_train.shape[0] # 455\n",
    "y = y_train.reshape(-1,1) # (455,1)\n",
    "print(y.shape)\n",
    "# Hessian matrix\n",
    "H = (2.0/n)* X.T @ X\n",
    "# Get the eigenvalues\n",
    "EigValues, EigVectors = np.linalg.eig(H)\n",
    "# print(f\"Eigenvalues of Hessian Matrix:{EigValues}\")\n",
    "\n",
    "beta_linreg = np.linalg.inv(X.T @ X) @ (X.T @ y)\n",
    "# print(beta_linreg)\n",
    "beta = np.random.randn(X_train.shape[1], 1)\n",
    "# print(beta.shape) # (30,1)\n",
    "\n",
    "eta = 1.0/np.max(EigValues)\n",
    "Niterations = 1000\n",
    "    \n",
    "\n",
    "for iter in range(Niterations):\n",
    "    gradient = 2.0/n*X.T @ ((X @ beta)-y)\n",
    "    #gradient has the wrong dimensions, idk how this happened\n",
    "    beta -= eta*gradient\n",
    "\n",
    "\n",
    "# print(beta)\n",
    "xnew = X_test\n",
    "print(\"test\", np.ones((len(xnew), 1)).shape)\n",
    "xbnew = np.c_[np.ones((len(xnew), 1)), xnew]\n",
    "print(xbnew.shape)\n",
    "ypredict = xnew.dot(beta)\n",
    "ypredict2 = xnew.dot(beta_linreg)\n",
    "plt.plot(xnew, ypredict, \"r-\")\n",
    "plt.plot(xnew, ypredict2, \"b-\")\n",
    "plt.plot(X, y ,'ro')\n",
    "# plt.axis([0,2.0,0, 15.0])\n",
    "plt.xlabel(r'$x$')\n",
    "plt.ylabel(r'$y$')\n",
    "plt.title(r'Gradient descent example')\n",
    "plt.show()"
   ]
  },
  {
   "cell_type": "markdown",
   "id": "fff54502",
   "metadata": {
    "editable": true
   },
   "source": [
    "### Part b): Writing your own Neural Network code\n",
    "\n",
    "Your aim now, and this is the central part of this project, is to\n",
    "write your own Feed Forward Neural Network  code implementing the back\n",
    "propagation algorithm discussed in the lecture slides from [week 40](https://compphysics.github.io/MachineLearning/doc/pub/week41/html/week40.html) and\n",
    "[week 41](https://compphysics.github.io/MachineLearning/doc/pub/week41/html/week41.html).\n",
    "\n",
    "We will focus on a regression problem first and study either the simple second-order polynomial from part a) or the \n",
    "Franke function or terrain data (or both or other data sets) from\n",
    "project 1.\n",
    "\n",
    "Discuss again your choice of cost function.\n",
    "\n",
    "Write an FFNN code for regression with a flexible number of hidden\n",
    "layers and nodes using the Sigmoid function as activation function for\n",
    "the hidden layers. Initialize the weights using a normal\n",
    "distribution. How would you initialize the biases? And which\n",
    "activation function would you select for the final output layer?\n",
    "\n",
    "Train your network and compare the results with those from your OLS and Ridge Regression codes from project 1 if you use the Franke function or the terrain data.\n",
    "You should test your results against a similar code using **Scikit-Learn** (see the examples in the above lecture notes from week 41) or **tensorflow/keras**. \n",
    "\n",
    "Comment your results and give a critical discussion of the results\n",
    "obtained with the Linear  Regression code and your own Neural Network\n",
    "code.  \n",
    "Make an analysis of the regularization parameters and the learning rates employed to find the optimal MSE and $R2$ scores.\n",
    "\n",
    "A useful reference on the back progagation algorithm is [Nielsen's\n",
    "book](http://neuralnetworksanddeeplearning.com/). It is an excellent\n",
    "read."
   ]
  },
  {
   "cell_type": "code",
   "execution_count": null,
   "id": "a5dc06c1",
   "metadata": {},
   "outputs": [],
   "source": [
    "n_inputs, n_features = X.shape\n",
    "n_hidden_neurons = 2\n",
    "n_categories = 1\n",
    "n_features = 2\n",
    "hidden_layers = 1\n",
    "\n",
    "def sigmoid(x):\n",
    "    return 1/(1 + np.exp(-x))\n",
    "\n",
    "def CostCrossEntropy(target):\n",
    "    \n",
    "    def func(X):\n",
    "        return -(1.0 / target.size) * np.sum(target * np.log(X + 10e-10))\n",
    "\n",
    "    return func\n",
    "\n",
    "#weight[0] = weights of first hidden layer, weight[len(weights)-1] = weight of output, same structure for biases\n",
    "weights = []\n",
    "#appending the first hidden layer\n",
    "weights.append(np.random.randn(n_features, n_hidden_neurons))\n",
    "#appending the rest of the hidden layers\n",
    "for i in range(len(hidden_layers) - 1):\n",
    "    weights.append(np.random.randn(n_hidden_neurons, n_hidden_neurons))\n",
    "#appending weight of output layer\n",
    "weights.append(np.random.randn(n_hidden_neurons, n_categories))\n",
    "\n",
    "biases = []\n",
    "for i in range(hidden_layers):\n",
    "    biases.append(np.zeros(n_hidden_neurons) + 0.01)\n",
    "biases.append(np.zeros(n_categories) + 0.01)\n",
    "\n",
    "\n",
    "#feed forward pass\n",
    "def feed_forward(X, weights, biases, act_func, hidden_layers):\n",
    "    # weighted sum of inputs to each layer\n",
    "    outputs = []\n",
    "    input_next = X\n",
    "    for i in range(len(hidden_layers) + 1):\n",
    "        z = np.matmul(input_next, weights[i]) + biases[i]\n",
    "        # activation in the hidden layer\n",
    "        a = act_func(z)\n",
    "        # make sure that the next hidden layer has output layer before as input\n",
    "        input_next = a\n",
    "        #append and return all the outputs for the backpropagation part\n",
    "        outputs.append(a)\n",
    "    return outputs\n",
    "\n",
    "def backpropagation(X, Y, a_h, a_o, act_func):\n",
    "    #TODO: make this\n",
    "    #update all the weights\n",
    "    #calculate derivative and change\n",
    "    #not allowed to use sklearn or tensorflow or other libriries\n",
    "    #allowed to use autograd to calculate derivatives\n",
    "\n"
   ]
  },
  {
   "cell_type": "markdown",
   "id": "6e0f9012",
   "metadata": {
    "editable": true
   },
   "source": [
    "### Part c): Testing different activation functions\n",
    "\n",
    "You should now also test different activation functions for the hidden layers. Try out the Sigmoid, the RELU and the Leaky RELU functions and discuss your results. You may also study the way you initialize your weights and biases."
   ]
  },
  {
   "cell_type": "markdown",
   "id": "075046bf",
   "metadata": {
    "editable": true
   },
   "source": [
    "### Part d): Classification  analysis using neural networks\n",
    "\n",
    "With a well-written code it should now be easy to change the\n",
    "activation function for the output layer.\n",
    "\n",
    "Here we will change the cost function for our neural network code\n",
    "developed in parts b) and c) in order to perform a classification analysis. \n",
    "\n",
    "We will here study the Wisconsin Breast Cancer  data set. This is a typical binary classification problem with just one single output, either True or Fale, $0$ or $1$ etc.\n",
    "You find more information about this at the [Scikit-Learn\n",
    "site](https://scikit-learn.org/stable/modules/generated/sklearn.datasets.load_breast_cancer.html) or at the [University of California\n",
    "at Irvine](https://archive.ics.uci.edu/ml/datasets/breast+cancer+wisconsin+(original)). \n",
    "\n",
    "To measure the performance of our classification problem we use the\n",
    "so-called *accuracy* score.  The accuracy is as you would expect just\n",
    "the number of correctly guessed targets $t_i$ divided by the total\n",
    "number of targets, that is"
   ]
  },
  {
   "cell_type": "markdown",
   "id": "080dadf2",
   "metadata": {
    "editable": true
   },
   "source": [
    "$$\n",
    "\\text{Accuracy} = \\frac{\\sum_{i=1}^n I(t_i = y_i)}{n} ,\n",
    "$$"
   ]
  },
  {
   "cell_type": "markdown",
   "id": "e3418dd4",
   "metadata": {
    "editable": true
   },
   "source": [
    "where $I$ is the indicator function, $1$ if $t_i = y_i$ and $0$\n",
    "otherwise if we have a binary classification problem. Here $t_i$\n",
    "represents the target and $y_i$ the outputs of your FFNN code and $n$ is simply the number of targets $t_i$.\n",
    "\n",
    "Discuss your results and give a critical analysis of the various parameters, including hyper-parameters like the learning rates and the regularization parameter $\\lambda$ (as you did in Ridge Regression), various activation functions, number of hidden layers and nodes and activation functions.  \n",
    "\n",
    "As stated in the introduction, it can also be useful to study other\n",
    "datasets. \n",
    "\n",
    "Again, we strongly recommend that you compare your own neural Network\n",
    "code for classification and pertinent results against a similar code using **Scikit-Learn**  or **tensorflow/keras** or **pytorch**."
   ]
  },
  {
   "cell_type": "markdown",
   "id": "828ad79f",
   "metadata": {
    "editable": true
   },
   "source": [
    "### Part e): Write your Logistic Regression code, final step\n",
    "\n",
    "Finally, we want to compare the FFNN code we have developed with\n",
    "Logistic regression, that is we wish to compare our neural network\n",
    "classification results with the results we can obtain with another\n",
    "method.\n",
    "\n",
    "Define your cost function and the design matrix before you start writing your code.\n",
    "Write thereafter a Logistic regression code using your SGD algorithm. You can also use standard gradient descent in this case, with a learning rate as hyper-parameter.\n",
    "Study the results as functions of the chosen learning rates.\n",
    "Add also an $l_2$ regularization parameter $\\lambda$. Compare your results with those from your FFNN code as well as those obtained using **Scikit-Learn**'s logistic regression functionality.\n",
    "\n",
    "The weblink  here <https://medium.com/ai-in-plain-english/comparison-between-logistic-regression-and-neural-networks-in-classifying-digits-dc5e85cd93c3>compares logistic regression and FFNN using the so-called MNIST data set. You may find several useful hints and ideas from this article."
   ]
  },
  {
   "cell_type": "markdown",
   "id": "07059668",
   "metadata": {
    "editable": true
   },
   "source": [
    "### Part f) Critical evaluation of the various algorithms\n",
    "\n",
    "After all these glorious calculations, you should now summarize the\n",
    "various algorithms and come with a critical evaluation of their pros\n",
    "and cons. Which algorithm works best for the regression case and which\n",
    "is best for the classification case. These codes can also be part of\n",
    "your final project 3, but now applied to other data sets."
   ]
  },
  {
   "cell_type": "markdown",
   "id": "e88200db",
   "metadata": {
    "editable": true
   },
   "source": [
    "## Background literature\n",
    "\n",
    "1. The text of Michael Nielsen is highly recommended, see [Nielsen's book](http://neuralnetworksanddeeplearning.com/). It is an excellent read.\n",
    "\n",
    "2. [Mehta et al, arXiv 1803.08823](https://arxiv.org/abs/1803.08823), *A high-bias, low-variance introduction to Machine Learning for physicists*, ArXiv:1803.08823.\n",
    "\n",
    "c. [Goodfellow, Bengio and Courville](https://www.deeplearningbook.org/), *Deep Learning*."
   ]
  },
  {
   "cell_type": "markdown",
   "id": "66733be9",
   "metadata": {
    "editable": true
   },
   "source": [
    "## Introduction to numerical projects\n",
    "\n",
    "Here follows a brief recipe and recommendation on how to write a report for each\n",
    "project.\n",
    "\n",
    "  * Give a short description of the nature of the problem and the eventual  numerical methods you have used.\n",
    "\n",
    "  * Describe the algorithm you have used and/or developed. Here you may find it convenient to use pseudocoding. In many cases you can describe the algorithm in the program itself.\n",
    "\n",
    "  * Include the source code of your program. Comment your program properly.\n",
    "\n",
    "  * If possible, try to find analytic solutions, or known limits in order to test your program when developing the code.\n",
    "\n",
    "  * Include your results either in figure form or in a table. Remember to        label your results. All tables and figures should have relevant captions        and labels on the axes.\n",
    "\n",
    "  * Try to evaluate the reliabilty and numerical stability/precision of your results. If possible, include a qualitative and/or quantitative discussion of the numerical stability, eventual loss of precision etc.\n",
    "\n",
    "  * Try to give an interpretation of you results in your answers to  the problems.\n",
    "\n",
    "  * Critique: if possible include your comments and reflections about the  exercise, whether you felt you learnt something, ideas for improvements and  other thoughts you've made when solving the exercise. We wish to keep this course at the interactive level and your comments can help us improve it.\n",
    "\n",
    "  * Try to establish a practice where you log your work at the  computerlab. You may find such a logbook very handy at later stages in your work, especially when you don't properly remember  what a previous test version  of your program did. Here you could also record  the time spent on solving the exercise, various algorithms you may have tested or other topics which you feel worthy of mentioning."
   ]
  },
  {
   "cell_type": "markdown",
   "id": "5c49a400",
   "metadata": {
    "editable": true
   },
   "source": [
    "## Format for electronic delivery of report and programs\n",
    "\n",
    "The preferred format for the report is a PDF file. You can also use DOC or postscript formats or as an ipython notebook file.  As programming language we prefer that you choose between C/C++, Fortran2008 or Python. The following prescription should be followed when preparing the report:\n",
    "\n",
    "  * Use Canvas to hand in your projects, log in  at  <https://www.uio.no/english/services/it/education/canvas/> with your normal UiO username and password.\n",
    "\n",
    "  * Upload **only** the report file or the link to your GitHub/GitLab or similar typo of  repos!  For the source code file(s) you have developed please provide us with your link to your GitHub/GitLab or similar  domain.  The report file should include all of your discussions and a list of the codes you have developed.  Do not include library files which are available at the course homepage, unless you have made specific changes to them.\n",
    "\n",
    "  * In your GitHub/GitLab or similar repository, please include a folder which contains selected results. These can be in the form of output from your code for a selected set of runs and input parameters.\n",
    "\n",
    "Finally, \n",
    "we encourage you to collaborate. Optimal working groups consist of \n",
    "2-3 students. You can then hand in a common report."
   ]
  }
 ],
 "metadata": {
  "kernelspec": {
   "display_name": "Python 3",
   "language": "python",
   "name": "python3"
  },
  "language_info": {
   "codemirror_mode": {
    "name": "ipython",
    "version": 3
   },
   "file_extension": ".py",
   "mimetype": "text/x-python",
   "name": "python",
   "nbconvert_exporter": "python",
   "pygments_lexer": "ipython3",
   "version": "3.12.0"
  }
 },
 "nbformat": 4,
 "nbformat_minor": 5
}
